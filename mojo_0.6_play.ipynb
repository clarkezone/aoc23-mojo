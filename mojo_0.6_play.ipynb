{
 "cells": [
  {
   "cell_type": "markdown",
   "metadata": {},
   "source": [
    "# Mojo 0.6\n",
    "This is a test notebook that explores some of the new features in [Mojo 0.6 release](https://docs.modular.com/mojo/changelog.html?utm_content=273987722&utm_medium=social&utm_source=twitter&hss_channel=tw-1483918307484848132)"
   ]
  },
  {
   "cell_type": "code",
   "execution_count": 29,
   "metadata": {},
   "outputs": [
    {
     "name": "stdout",
     "output_type": "stream",
     "text": [
      "Hello\n"
     ]
    }
   ],
   "source": [
    "@value\n",
    "struct test: \n",
    "  fn sayhello(self):\n",
    "    print(\"Hello\")\n",
    "\n",
    "let t = test()\n",
    "t.sayhello()"
   ]
  },
  {
   "cell_type": "markdown",
   "metadata": {},
   "source": [
    "## Movable, Copyable\n",
    "\n",
    "New traits added for move and copy constructors that are required for types that can be stored in a DynamicVector."
   ]
  },
  {
   "cell_type": "code",
   "execution_count": 30,
   "metadata": {},
   "outputs": [],
   "source": [
    "\n",
    "struct van(Movable, Copyable, CollectionElement):\n",
    "  var thing: Int\n",
    "\n",
    "  fn __init__(inout self):\n",
    "    print(\"van init\")\n",
    "    self.thing = 0\n",
    "\n",
    "  fn __moveinit__(inout self: van, owned existing: van ):\n",
    "    print(\"van moveinit\")\n",
    "    self.thing = existing.thing\n",
    "\n",
    "  fn __copyinit__(inout self: van, existing: van ):\n",
    "    print(\"van copyinit\")\n",
    "    self.thing = existing.thing\n",
    "\n",
    "  fn __del__(owned self):\n",
    "    print(\"del\")\n",
    "\n",
    "  \n",
    "fn testMovableCopyable():\n",
    "   print(\"testMovableCopyable\")\n",
    "   var vans: DynamicVector[van] = DynamicVector[van]() \n",
    "   vans.append(van())\n",
    "   print(\"len vans\",len(vans))\n",
    "   print(\"Done\")\n",
    "   # surprising del before\n",
    "   # explict calling del on vans weird also"
   ]
  },
  {
   "cell_type": "markdown",
   "metadata": {},
   "source": [
    "## Partial automatic parametarization\n",
    "\n",
    "Readme says: \"when a function is declared with an argument of a partially bound type, the unbound parameters of that type are implicitly added to the function’s input parameters.\"\n",
    "\n",
    "This assumes knowledge of what a partially bound type is.  What is that?\n",
    "\n",
    "From the documentation: [type bindings](https://docs.modular.com/mojo/manual/parameters/#fully-bound-partially-bound-and-unbound-types)"
   ]
  },
  {
   "cell_type": "code",
   "execution_count": 31,
   "metadata": {},
   "outputs": [],
   "source": [
    "struct diary[storetype: CollectionElement]:\n",
    "   var storage: DynamicVector[storetype]\n",
    "\n",
    "   fn __init__(inout self):\n",
    "      self.storage = DynamicVector[storetype]()\n",
    "\n",
    "# when we use the diary type, we supply / bind a parameter\n",
    "var recorder: diary[String] = diary[String]()\n",
    "\n",
    "# function has a unbound form of diary as function argument\n",
    "fn partiallyboundfunction(thediary: diary):\n",
    "   pass\n",
    "\n",
    "# calling funciton performas the parameter binding\n",
    "partiallyboundfunction(diary[String]())"
   ]
  },
  {
   "cell_type": "markdown",
   "metadata": {},
   "source": [
    "## Explicit unbound parameters\n",
    "\n",
    "Referencing a parameterized type in a function call supplying `_` as a parameter makes it possible to disambiguate which parameters are supplied as arguments by the caller: \n",
    "\n",
    "The readme implies that if values are supplied for some parameters with others explicitly unbound via _, only the unbound ones need to be provided when calling.  This doesn't seem to work in the following test."
   ]
  },
  {
   "cell_type": "code",
   "execution_count": 32,
   "metadata": {},
   "outputs": [
    {
     "name": "stderr",
     "output_type": "stream",
     "text": [
      "error: \u001b[0;1;31m\u001b[1mExpression [32]:10:25: \u001b[0m\u001b[1m'diary' parameter #0 has 'CollectionElement' type, but value has type 'IntLiteral'\n",
      "\u001b[0mexplicitlyunbound(diary[1])\n",
      "\u001b[0;1;32m                        ^\n",
      "\u001b[0m\u001b[0m\n",
      "\u001b[0;1;30m\u001b[1mExpression [32]:1:1: \u001b[0m\u001b[1m'diary' declared here\n",
      "\u001b[0mstruct diary[storetype: CollectionElement,maxlength: Int, maxentries: Int]:\n",
      "\u001b[0;1;32m^\n",
      "\u001b[0m\u001b[0m\n",
      "expression failed to parse (no further compiler diagnostics)"
     ]
    }
   ],
   "source": [
    "struct diary[storetype: CollectionElement,maxlength: Int, maxentries: Int]:\n",
    "   var storage: DynamicVector[storetype]\n",
    "\n",
    "   fn __init__(inout self):\n",
    "      self.storage = DynamicVector[storetype]()\n",
    "\n",
    "fn explicitlyunbound(thediary: diary[String, _, 10]):\n",
    "    pass\n",
    "\n",
    "explicitlyunbound(diary[1])"
   ]
  },
  {
   "cell_type": "markdown",
   "metadata": {},
   "source": [
    "## __mlir_op supports operations that return multiple Items\n",
    "\n",
    "This is quite advanced and requires further investigation"
   ]
  },
  {
   "cell_type": "code",
   "execution_count": 33,
   "metadata": {},
   "outputs": [
    {
     "name": "stderr",
     "output_type": "stream",
     "text": [
      "error: \u001b[0;1;31m\u001b[1mExpression [33]:7:68: \u001b[0m\u001b[1muse of unregistered MLIR operation 'multi_result_op'\n",
      "\u001b[0m        let ret = __mlir_op.`multi_result_op`[ _type = (Int, Int) ]()\n",
      "\u001b[0;1;32m                  ~~~~~~~~~~~~~~~~~~~~~~~~~~~~~~~~~~~~~~~~~~~~~~~~~^~\n",
      "\u001b[0m\u001b[0m\n",
      "expression failed to parse (no further compiler diagnostics)"
     ]
    }
   ],
   "source": [
    "var a: Tuple[String, Int, Int] = Tuple(String(\"Hello\"), 10, 10)\n",
    "\n",
    "struct multiresult:\n",
    "\n",
    "   fn test(self):\n",
    "        # The `ret` variable has type `Tuple[Int, Int]`.\n",
    "        let ret = __mlir_op.`multi_result_op`[ _type = (Int, Int) ]()\n"
   ]
  },
  {
   "cell_type": "markdown",
   "metadata": {},
   "source": [
    "## Reading raw bytes from a file\n",
    "This just works even in a mojo notebook"
   ]
  },
  {
   "cell_type": "code",
   "execution_count": 36,
   "metadata": {},
   "outputs": [
    {
     "name": "stdout",
     "output_type": "stream",
     "text": [
      "Bytes: 11357\n"
     ]
    }
   ],
   "source": [
    "with open(\"LICENSE\", \"r\") as f:\n",
    "    data = f.read_bytes()\n",
    "    print(\"Bytes:\", data.bytecount())"
   ]
  }
 ],
 "metadata": {
  "kernelspec": {
   "display_name": "Mojo",
   "language": "mojo",
   "name": "mojo-jupyter-kernel"
  },
  "language_info": {
   "codemirror_mode": {
    "name": "mojo"
   },
   "file_extension": ".mojo",
   "mimetype": "text/x-mojo",
   "name": "mojo"
  }
 },
 "nbformat": 4,
 "nbformat_minor": 2
}
