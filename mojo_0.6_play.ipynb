{
 "cells": [
  {
   "cell_type": "markdown",
   "metadata": {},
   "source": [
    "# Mojo 0.6\n",
    "This is a test notebook that explores some of the new features in [Mojo 0.6 release](https://docs.modular.com/mojo/changelog.html?utm_content=273987722&utm_medium=social&utm_source=twitter&hss_channel=tw-1483918307484848132)"
   ]
  },
  {
   "cell_type": "code",
   "execution_count": 16,
   "metadata": {},
   "outputs": [
    {
     "name": "stdout",
     "output_type": "stream",
     "text": [
      "Hello\n"
     ]
    }
   ],
   "source": [
    "@value\n",
    "struct test: \n",
    "  fn sayhello(self):\n",
    "    print(\"Hello\")\n",
    "\n",
    "let t = test()\n",
    "t.sayhello()"
   ]
  },
  {
   "cell_type": "markdown",
   "metadata": {},
   "source": [
    "## Movable, Copyable\n",
    "\n",
    "New traits added for move and copy constructors that are required for types that can be stored in a DynamicVector."
   ]
  },
  {
   "cell_type": "code",
   "execution_count": 17,
   "metadata": {},
   "outputs": [],
   "source": [
    "\n",
    "struct van(Movable, Copyable, CollectionElement):\n",
    "  var thing: Int\n",
    "\n",
    "  fn __init__(inout self):\n",
    "    print(\"van init\")\n",
    "    self.thing = 0\n",
    "\n",
    "  fn __moveinit__(inout self: van, owned existing: van ):\n",
    "    print(\"van moveinit\")\n",
    "    self.thing = existing.thing\n",
    "\n",
    "  fn __copyinit__(inout self: van, existing: van ):\n",
    "    print(\"van copyinit\")\n",
    "    self.thing = existing.thing\n",
    "\n",
    "  fn __del__(owned self):\n",
    "    print(\"del\")\n",
    "\n",
    "  \n",
    "fn testMovableCopyable():\n",
    "   print(\"testMovableCopyable\")\n",
    "   var vans: DynamicVector[van] = DynamicVector[van]() \n",
    "   vans.append(van())\n",
    "   print(\"len vans\",len(vans))\n",
    "   print(\"Done\")\n",
    "   # surprising del before\n",
    "   # explict calling del on vans weird also"
   ]
  },
  {
   "cell_type": "markdown",
   "metadata": {},
   "source": [
    "## Partial automatic parametarization\n",
    "\n",
    "Readme says: \"when a function is declared with an argument of a partially bound type, the unbound parameters of that type are implicitly added to the function’s input parameters.\"\n",
    "\n",
    "This assumes knowledge of what a partially bound type is.  What is that?\n",
    "\n",
    "From the documentation: [type bindings](https://docs.modular.com/mojo/manual/parameters/#fully-bound-partially-bound-and-unbound-types)"
   ]
  },
  {
   "cell_type": "code",
   "execution_count": 19,
   "metadata": {},
   "outputs": [],
   "source": [
    "struct diary[storetype: CollectionElement]:\n",
    "   var storage: DynamicVector[storetype]\n",
    "\n",
    "   fn __init__(inout self):\n",
    "      self.storage = DynamicVector[storetype]()\n",
    "\n",
    "# when we use the diary type, we supply / bind a parameter\n",
    "var recorder: diary[String] = diary[String]()\n",
    "\n",
    "# function has a unbound form of diary as function argument\n",
    "fn partiallyboundfunction(thediary: diary):\n",
    "   pass\n",
    "\n",
    "# calling funciton performas the parameter binding\n",
    "partiallyboundfunction(diary[String]())\n",
    "\n",
    "# calling funciton performas the parameter binding\n",
    "partiallyboundfunction(diary[String]())"
   ]
  }
 ],
 "metadata": {
  "kernelspec": {
   "display_name": "Mojo",
   "language": "mojo",
   "name": "mojo-jupyter-kernel"
  },
  "language_info": {
   "codemirror_mode": {
    "name": "mojo"
   },
   "file_extension": ".mojo",
   "mimetype": "text/x-mojo",
   "name": "mojo"
  }
 },
 "nbformat": 4,
 "nbformat_minor": 2
}
