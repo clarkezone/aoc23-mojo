{
 "cells": [
  {
   "cell_type": "markdown",
   "metadata": {},
   "source": [
    "# Mojo 0.6\n",
    "This is a test notebook that explores some of the new features in [Mojo 0.6 release](https://docs.modular.com/mojo/changelog.html?utm_content=273987722&utm_medium=social&utm_source=twitter&hss_channel=tw-1483918307484848132)"
   ]
  },
  {
   "cell_type": "code",
   "execution_count": 29,
   "metadata": {},
   "outputs": [
    {
     "name": "stdout",
     "output_type": "stream",
     "text": [
      "Hello\n"
     ]
    }
   ],
   "source": [
    "@value\n",
    "struct test: \n",
    "  fn sayhello(self):\n",
    "    print(\"Hello\")\n",
    "\n",
    "let t = test()\n",
    "t.sayhello()"
   ]
  },
  {
   "cell_type": "markdown",
   "metadata": {},
   "source": [
    "## Movable, Copyable\n",
    "\n",
    "New traits added for move and copy constructors that are required for types that can be stored in a DynamicVector."
   ]
  },
  {
   "cell_type": "code",
   "execution_count": 30,
   "metadata": {},
   "outputs": [],
   "source": [
    "\n",
    "struct van(Movable, Copyable, CollectionElement):\n",
    "  var thing: Int\n",
    "\n",
    "  fn __init__(inout self):\n",
    "    print(\"van init\")\n",
    "    self.thing = 0\n",
    "\n",
    "  fn __moveinit__(inout self: van, owned existing: van ):\n",
    "    print(\"van moveinit\")\n",
    "    self.thing = existing.thing\n",
    "\n",
    "  fn __copyinit__(inout self: van, existing: van ):\n",
    "    print(\"van copyinit\")\n",
    "    self.thing = existing.thing\n",
    "\n",
    "  fn __del__(owned self):\n",
    "    print(\"del\")\n",
    "\n",
    "  \n",
    "fn testMovableCopyable():\n",
    "   print(\"testMovableCopyable\")\n",
    "   var vans: DynamicVector[van] = DynamicVector[van]() \n",
    "   vans.append(van())\n",
    "   print(\"len vans\",len(vans))\n",
    "   print(\"Done\")\n",
    "   # surprising del before\n",
    "   # explict calling del on vans weird also"
   ]
  },
  {
   "cell_type": "markdown",
   "metadata": {},
   "source": [
    "## Partial automatic parametarization\n",
    "\n",
    "Readme says: \"when a function is declared with an argument of a partially bound type, the unbound parameters of that type are implicitly added to the function’s input parameters.\"\n",
    "\n",
    "This assumes knowledge of what a partially bound type is.  What is that?\n",
    "\n",
    "From the documentation: [type bindings](https://docs.modular.com/mojo/manual/parameters/#fully-bound-partially-bound-and-unbound-types)"
   ]
  },
  {
   "cell_type": "code",
   "execution_count": 5,
   "metadata": {},
   "outputs": [],
   "source": [
    "struct diary[storetype: CollectionElement,maxlength: Int, maxentries: Int]:\n",
    "   var storage: DynamicVector[storetype]\n",
    "\n",
    "   fn __init__(inout self):\n",
    "      self.storage = DynamicVector[storetype]()\n",
    "\n",
    "# when we use the diary type, we supply / bind a parameter\n",
    "var recorder: diary[String,1,1] = diary[String,1,1]()\n",
    "\n",
    "# function has a unbound form of diary as function argument\n",
    "fn partiallyboundfunction(thediary: diary):\n",
    "   pass\n",
    "\n",
    "# calling funciton performas the parameter binding\n",
    "partiallyboundfunction(diary[String,1,1]())"
   ]
  },
  {
   "cell_type": "markdown",
   "metadata": {},
   "source": [
    "## Explicit unbound parameters\n",
    "\n",
    "Referencing a parameterized type in a function call supplying `_` as a parameter makes it possible to disambiguate which parameters are supplied as arguments by the caller: \n",
    "\n",
    "The readme implies that if values are supplied for some parameters with others explicitly unbound via _, only the unbound ones need to be provided when calling.  This doesn't seem to work in the following test."
   ]
  },
  {
   "cell_type": "code",
   "execution_count": 6,
   "metadata": {},
   "outputs": [
    {
     "name": "stderr",
     "output_type": "stream",
     "text": [
      "error: \u001b[0;1;31m\u001b[1mExpression [6]:1:37: \u001b[0m\u001b[1m'diary' expects 1 input parameter, but 3 were specified\n",
      "\u001b[0mfn explicitlyunbound(thediary: diary[String, _, 10]):\n",
      "\u001b[0;1;32m                                    ^\n",
      "\u001b[0m\u001b[0m\n",
      "\u001b[0;1;30m\u001b[1mExpression [5]:1:1: \u001b[0m\u001b[1m'diary' declared here\n",
      "\u001b[0mstruct diary[storetype: CollectionElement]:\n",
      "\u001b[0;1;32m^\n",
      "\u001b[0m\u001b[0m\n",
      "expression failed to parse (no further compiler diagnostics)"
     ]
    }
   ],
   "source": [
    "fn explicitlyunbound(thediary: diary[String, _, 10]):\n",
    "    pass\n",
    "\n",
    "explicitlyunbound(diary[1]())\n"
   ]
  },
  {
   "cell_type": "markdown",
   "metadata": {},
   "source": [
    "## Partial type binding in alias definitions\n",
    "Create an alias with partial binding, supply remaining parameters against alias"
   ]
  },
  {
   "cell_type": "code",
   "execution_count": 7,
   "metadata": {},
   "outputs": [
    {
     "name": "stderr",
     "output_type": "stream",
     "text": [
      "error: \u001b[0;1;31m\u001b[1mExpression [7]:2:27: \u001b[0m\u001b[1m'diary' expects 1 input parameter, but 3 were specified\n",
      "\u001b[0malias defineddiary = diary[String,1,2]\n",
      "\u001b[0;1;32m                          ^\n",
      "\u001b[0m\u001b[0m\n",
      "\u001b[0;1;30m\u001b[1mExpression [5]:1:1: \u001b[0m\u001b[1m'diary' declared here\n",
      "\u001b[0mstruct diary[storetype: CollectionElement]:\n",
      "\u001b[0;1;32m^\n",
      "\u001b[0m\u001b[0m\n",
      "error: \u001b[0;1;31m\u001b[1mExpression [7]:5:26: \u001b[0m\u001b[1m'diary' expects 1 input parameter, but 3 were specified\n",
      "\u001b[0malias stringdiary = diary[String,_,_]\n",
      "\u001b[0;1;32m                         ^\n",
      "\u001b[0m\u001b[0m\n",
      "\u001b[0;1;30m\u001b[1mExpression [5]:1:1: \u001b[0m\u001b[1m'diary' declared here\n",
      "\u001b[0mstruct diary[storetype: CollectionElement]:\n",
      "\u001b[0;1;32m^\n",
      "\u001b[0m\u001b[0m\n",
      "error: \u001b[0;1;31m\u001b[1mExpression [7]:8:23: \u001b[0m\u001b[1m'diary' expects 1 input parameter, but 3 were specified\n",
      "\u001b[0malias tendiary = diary[_,10,_]\n",
      "\u001b[0;1;32m                      ^\n",
      "\u001b[0m\u001b[0m\n",
      "\u001b[0;1;30m\u001b[1mExpression [5]:1:1: \u001b[0m\u001b[1m'diary' declared here\n",
      "\u001b[0mstruct diary[storetype: CollectionElement]:\n",
      "\u001b[0;1;32m^\n",
      "\u001b[0m\u001b[0m\n",
      "expression failed to parse (no further compiler diagnostics)"
     ]
    }
   ],
   "source": [
    "\n",
    "alias defineddiary = diary[String,1,2]\n",
    "var dd: defineddiary = defineddiary()\n",
    "\n",
    "alias stringdiary = diary[String,_,_]\n",
    "var sd: stringdiary[1,1] = stringdiary[1,1]()\n",
    "\n",
    "alias tendiary = diary[_,10,_]\n",
    "var td: tendiary[String,10]"
   ]
  },
  {
   "cell_type": "markdown",
   "metadata": {},
   "source": [
    "## __mlir_op supports operations that return multiple Items\n",
    "\n",
    "This is quite advanced and requires further investigation"
   ]
  },
  {
   "cell_type": "code",
   "execution_count": 8,
   "metadata": {},
   "outputs": [
    {
     "name": "stderr",
     "output_type": "stream",
     "text": [
      "error: \u001b[0;1;31m\u001b[1mExpression [8]:7:68: \u001b[0m\u001b[1muse of unregistered MLIR operation 'multi_result_op'\n",
      "\u001b[0m        let ret = __mlir_op.`multi_result_op`[ _type = (Int, Int) ]()\n",
      "\u001b[0;1;32m                  ~~~~~~~~~~~~~~~~~~~~~~~~~~~~~~~~~~~~~~~~~~~~~~~~~^~\n",
      "\u001b[0m\u001b[0m\n",
      "expression failed to parse (no further compiler diagnostics)"
     ]
    }
   ],
   "source": [
    "var a: Tuple[String, Int, Int] = Tuple(String(\"Hello\"), 10, 10)\n",
    "\n",
    "struct multiresult:\n",
    "\n",
    "   fn test(self):\n",
    "        # The `ret` variable has type `Tuple[Int, Int]`.\n",
    "        let ret = __mlir_op.`multi_result_op`[ _type = (Int, Int) ]()\n"
   ]
  },
  {
   "cell_type": "markdown",
   "metadata": {},
   "source": [
    "## Reading raw bytes from a file\n",
    "This just works even in a mojo notebook.\n",
    "\n",
    "Note the use of seek to reset the stream read position"
   ]
  },
  {
   "cell_type": "code",
   "execution_count": 17,
   "metadata": {},
   "outputs": [
    {
     "name": "stdout",
     "output_type": "stream",
     "text": [
      "Bytes: 11357\n",
      "Bytes after seek: 1000\n"
     ]
    }
   ],
   "source": [
    "with open(\"LICENSE\", \"r\") as f:\n",
    "    data = f.read_bytes()\n",
    "    print(\"Bytes:\", data.bytecount())\n",
    "\n",
    "    f.seek(0)\n",
    "    data2 = f.read_bytes(1000)\n",
    "    print(\"Bytes after seek:\", data2.bytecount())"
   ]
  },
  {
   "cell_type": "markdown",
   "metadata": {},
   "source": [
    "## Path improvements\n"
   ]
  },
  {
   "cell_type": "code",
   "execution_count": 3,
   "metadata": {},
   "outputs": [
    {
     "name": "stdout",
     "output_type": "stream",
     "text": [
      "Hello! World!\n",
      "In mojo everything is a tensor: 13\n"
     ]
    }
   ],
   "source": [
    "let readmepath = Path(\"README.md\")\n",
    "let text = readmepath.read_text()\n",
    "print(text)\n",
    "\n",
    "let blob = readmepath.read_bytes()\n",
    "let typeofblob = print(\"In mojo everything is a tensor:\", blob.shape())"
   ]
  },
  {
   "cell_type": "markdown",
   "metadata": {},
   "source": [
    "## Tensor Load and Save\n",
    "Look Ma, I can easily load and save a Tensor"
   ]
  },
  {
   "cell_type": "code",
   "execution_count": 2,
   "metadata": {},
   "outputs": [
    {
     "name": "stdout",
     "output_type": "stream",
     "text": [
      "Tensor([[[0.10000000149011612, 0.10000000149011612, 0.10000000149011612],\n",
      "[0.10000000149011612, 0.10000000149011612, 0.10000000149011612],\n",
      "[0.10000000149011612, 0.10000000149011612, 0.10000000149011612],\n",
      "..., \n",
      "[0.10000000149011612, 0.10000000149011612, 0.10000000149011612],\n",
      "[0.10000000149011612, 0.10000000149011612, 0.10000000149011612],\n",
      "[0.10000000149011612, 0.10000000149011612, 0.10000000149011612]],\n",
      "[[0.10000000149011612, 0.10000000149011612, 0.10000000149011612],\n",
      "[0.10000000149011612, 0.10000000149011612, 0.10000000149011612],\n",
      "[0.10000000149011612, 0.10000000149011612, 0.10000000149011612],\n",
      "..., \n",
      "[0.10000000149011612, 0.10000000149011612, 0.10000000149011612],\n",
      "[0.10000000149011612, 0.10000000149011612, 0.10000000149011612],\n",
      "[0.10000000149011612, 0.10000000149011612, 0.10000000149011612]],\n",
      "[[0.10000000149011612, 0.10000000149011612, 0.10000000149011612],\n",
      "[0.10000000149011612, 0.10000000149011612, 0.10000000149011612],\n",
      "[0.10000000149011612, 0.10000000149011612, 0.10000000149011612],\n",
      "..., \n",
      "[0.10000000149011612, 0.10000000149011612, 0.10000000149011612],\n",
      "[0.10000000149011612, 0.10000000149011612, 0.10000000149011612],\n",
      "[0.10000000149011612, 0.10000000149011612, 0.10000000149011612]]\n",
      "..., ,\n",
      "[[0.10000000149011612, 0.10000000149011612, 0.10000000149011612],\n",
      "[0.10000000149011612, 0.10000000149011612, 0.10000000149011612],\n",
      "[0.10000000149011612, 0.10000000149011612, 0.10000000149011612],\n",
      "..., \n",
      "[0.10000000149011612, 0.10000000149011612, 0.10000000149011612],\n",
      "[0.10000000149011612, 0.10000000149011612, 0.10000000149011612],\n",
      "[0.10000000149011612, 0.10000000149011612, 0.10000000149011612]],\n",
      "[[0.10000000149011612, 0.10000000149011612, 0.10000000149011612],\n",
      "[0.10000000149011612, 0.10000000149011612, 0.10000000149011612],\n",
      "[0.10000000149011612, 0.10000000149011612, 0.10000000149011612],\n",
      "..., \n",
      "[0.10000000149011612, 0.10000000149011612, 0.10000000149011612],\n",
      "[0.10000000149011612, 0.10000000149011612, 0.10000000149011612],\n",
      "[0.10000000149011612, 0.10000000149011612, 0.10000000149011612]],\n",
      "[[0.10000000149011612, 0.10000000149011612, 0.10000000149011612],\n",
      "[0.10000000149011612, 0.10000000149011612, 0.10000000149011612],\n",
      "[0.10000000149011612, 0.10000000149011612, 0.10000000149011612],\n",
      "..., \n",
      "[0.10000000149011612, 0.10000000149011612, 0.10000000149011612],\n",
      "[0.10000000149011612, 0.10000000149011612, 0.10000000149011612],\n",
      "[0.10000000149011612, 0.10000000149011612, 0.10000000149011612]]], dtype=float32, shape=10x10x3)\n"
     ]
    }
   ],
   "source": [
    "from random import rand\n",
    "from tensor import Tensor, TensorSpec, TensorShape\n",
    "from utils.index import Index\n",
    "\n",
    "let test = rand[DType.float32](10,10,3)\n",
    "let spec = TensorSpec(DType.float32, 10, 10, 3)\n",
    "var tensor = Tensor[DType.float32](spec)\n",
    "# i'm sure there is a better way of doing this\n",
    "for i in range(10):\n",
    "    for j in range(10):\n",
    "        for k in range(3):\n",
    "            tensor[Index(i,j,k)] = 0.1\n",
    "print(tensor)\n",
    "tensor.save(\"./cool\")"
   ]
  },
  {
   "cell_type": "code",
   "execution_count": 6,
   "metadata": {},
   "outputs": [
    {
     "name": "stdout",
     "output_type": "stream",
     "text": [
      "Tensor([[[0.1315377950668335, 0.458650141954422, 0.0],\n",
      "[0.67886471748352051, 0.93469291925430298, 0.0],\n",
      "[0.034572109580039978, 0.52970021963119507, 0.0],\n",
      "..., \n",
      "[0.75335586071014404, 0.072685882449150085, 0.0],\n",
      "[0.43641141057014465, 0.47773176431655884, 0.0],\n",
      "[0.0, 0.0, 0.0]],\n",
      "[[0.50452291965484619, 0.3190329372882843, 0.0],\n",
      "[0.090732894837856293, 0.073749072849750519, 0.0],\n",
      "[0.91381746530532837, 0.46444582939147949, 0.0],\n",
      "..., \n",
      "[0.17832770943641663, 0.5716547966003418, 0.0],\n",
      "[0.49848011136054993, 0.74829262495040894, 0.0],\n",
      "[0.0, 0.0, 0.0]],\n",
      "[[0.27458813786506653, 0.41429325938224792, 0.0],\n",
      "[0.23991081118583679, 0.31753954291343689, 0.0],\n",
      "[0.68134623765945435, 0.38772532343864441, 0.0],\n",
      "..., \n",
      "[0.20325033366680145, 0.90167349576950073, 0.0],\n",
      "[0.41031304001808167, 0.88564836978912354, 0.0],\n",
      "[0.0, 0.0, 0.0]]\n",
      "..., ,\n",
      "[[0.47780430316925049, 0.51998847723007202, 0.0],\n",
      "[0.83368211984634399, 0.57777601480484009, 0.0],\n",
      "[0.98688298463821411, 0.0016574158798903227, 0.0],\n",
      "..., \n",
      "[0.76061731576919556, 0.45185121893882751, 0.0],\n",
      "[0.20956230163574219, 0.54697483777999878, 0.0],\n",
      "[0.0, 0.0, 0.0]],\n",
      "[[0.97334617376327515, 0.080353081226348877, 0.0],\n",
      "[0.25015527009963989, 0.76911407709121704, 0.0],\n",
      "[0.68166577816009521, 0.036367617547512054, 0.0],\n",
      "..., \n",
      "[0.065356269478797913, 0.97718018293380737, 0.0],\n",
      "[0.74327397346496582, 0.17137934267520905, 0.0],\n",
      "[0.0, 0.0, 0.0]],\n",
      "[[0.0, 0.0, 0.0],\n",
      "[0.0, 0.0, 0.0],\n",
      "[0.0, 0.0, 0.0],\n",
      "..., \n",
      "[0.0, 0.0, 0.0],\n",
      "[0.0, 0.0, 0.0],\n",
      "[0.0, 0.0, 0.0]]], dtype=float32, shape=10x10x3)\n"
     ]
    }
   ],
   "source": [
    "from tensor import Tensor, TensorSpec, TensorShape\n",
    "\n",
    "let cooltensor = Tensor[DType.float32].load(\"./cool\")\n",
    "print(cooltensor)"
   ]
  },
  {
   "cell_type": "markdown",
   "metadata": {},
   "source": [
    "## Pointer subscripting"
   ]
  },
  {
   "cell_type": "code",
   "execution_count": 2,
   "metadata": {},
   "outputs": [],
   "source": [
    "let dtp = DTypePointer[DType.float32]().alloc(10)\n",
    "let p = Pointer[Float32].alloc(10)\n",
    "for i in range(10):\n",
    "    let fi = Float32(i)\n",
    "    p[i] = fi\n",
    "\n",
    "    # is a Dtype.float32 same as a Float32 in terms of memory layout?\n",
    "    # what is the difference between DType.float32 and Float32?\n",
    "    dtp[i] = fi\n",
    "\n",
    "    # how do you create a DType.float32?\n",
    "    # let fi2 = DType[DType.float32](i)\n",
    "    # let dtp[i] = fi2\n"
   ]
  },
  {
   "cell_type": "markdown",
   "metadata": {},
   "source": [
    "## String enhancements\n",
    "`rfind` (last occurance of a substring) and `split` are added."
   ]
  },
  {
   "cell_type": "code",
   "execution_count": 3,
   "metadata": {},
   "outputs": [
    {
     "name": "stdout",
     "output_type": "stream",
     "text": [
      "5\n",
      "23\n"
     ]
    }
   ],
   "source": [
    "# string can be split, not inplace obviously\n",
    "let foo: String = \"a string in another string\"\n",
    "let splitstring = foo.split(\" \")\n",
    "print(len(splitstring))\n",
    "\n",
    "let finding = foo.rfind(\"in\")\n",
    "print(finding)\n",
    "\n",
    "# stringliteral cannot\n",
    "let bar = \"another string\"\n",
    "# bar.split(\" \")"
   ]
  },
  {
   "cell_type": "markdown",
   "metadata": {},
   "source": [
    "## Variadic Args\n",
    "Using * in front of an argument in a function indicates a variadic which can take variable number of arguments.  In mojo 0.6 this is iterable"
   ]
  },
  {
   "cell_type": "code",
   "execution_count": 1,
   "metadata": {},
   "outputs": [
    {
     "name": "stdout",
     "output_type": "stream",
     "text": [
      "1\n",
      "2\n",
      "3\n",
      "4\n",
      "5\n",
      "5\n"
     ]
    }
   ],
   "source": [
    "fn print_ints(*nums: Int):\n",
    "    for num in nums:\n",
    "        print(num)\n",
    "    print(len(nums))\n",
    "\n",
    "print_ints(1,2,3,4,5)"
   ]
  },
  {
   "cell_type": "markdown",
   "metadata": {},
   "source": [
    "## Testing package"
   ]
  },
  {
   "cell_type": "code",
   "execution_count": 1,
   "metadata": {},
   "outputs": [
    {
     "name": "stdout",
     "output_type": "stream",
     "text": [
      "Error: AssertionError: true!=false\n"
     ]
    }
   ],
   "source": [
    "import testing\n",
    "testing.assert_true(True==False,\"true!=false\")"
   ]
  },
  {
   "cell_type": "markdown",
   "metadata": {},
   "source": [
    "## Benchmark"
   ]
  },
  {
   "cell_type": "code",
   "execution_count": 4,
   "metadata": {},
   "outputs": [
    {
     "name": "stdout",
     "output_type": "stream",
     "text": [
      "---------------------\n",
      "Benchmark Report (ms)\n",
      "---------------------\n",
      "Mean: 2.8023292368583394e-14\n",
      "Total: 222.817261\n",
      "Iters: 7951145000000000\n",
      "Warmup Mean: 2.0000000000000002e-05\n",
      "Warmup Total: 4.0000000000000003e-05\n",
      "Warmup Iters: 2\n",
      "Fastest Mean: 1.9000000000000001e-14\n",
      "Slowest Mean: 1.5284700000000002e-10\n",
      "\n"
     ]
    }
   ],
   "source": [
    "import benchmark\n",
    "\n",
    "fn timer():\n",
    "    pass\n",
    "\n",
    "let report = benchmark.run[timer]()\n",
    "report.print(benchmark.Unit.ms)"
   ]
  }
 ],
 "metadata": {
  "kernelspec": {
   "display_name": "Mojo",
   "language": "mojo",
   "name": "mojo-jupyter-kernel"
  },
  "language_info": {
   "codemirror_mode": {
    "name": "mojo"
   },
   "file_extension": ".mojo",
   "mimetype": "text/x-mojo",
   "name": "mojo"
  }
 },
 "nbformat": 4,
 "nbformat_minor": 2
}
